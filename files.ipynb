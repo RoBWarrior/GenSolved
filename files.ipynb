{
 "cells": [
  {
   "cell_type": "code",
   "execution_count": null,
   "metadata": {},
   "outputs": [],
   "source": [
    "import cv2\n",
    "import imutils\n",
    "import matplotlib.pyplot as plt\n",
    "import collections"
   ]
  },
  {
   "cell_type": "code",
   "execution_count": 1,
   "metadata": {},
   "outputs": [],
   "source": [
    "class Shape:\n",
    "    def __init__(self):\n",
    "        pass\n",
    "\n",
    "    def detect(self, c):\n",
    "        shape = 'unidentified'\n",
    "        perimeter = cv2.arcLength(c, True)\n",
    "        approximation = cv2.approxPolyDP(c, 0.04 * perimeter, True)\n",
    "        num_vertices = len(approximation)\n",
    "        \n",
    "        if num_vertices == 3:\n",
    "            shape = \"triangle\"\n",
    "        elif num_vertices == 4:\n",
    "            (x, y, w, h) = cv2.boundingRect(approximation)\n",
    "            ratio = w / float(h)\n",
    "            shape = \"square\" if ratio >= 0.95 and ratio <= 1.05 else \"rectangle\"\n",
    "        elif num_vertices == 5:\n",
    "            shape = \"pentagon\"\n",
    "        elif num_vertices >= 10:\n",
    "            if self.is_star(c, num_vertices):\n",
    "                shape = \"star\"\n",
    "            else:\n",
    "                shape = \"circle\"\n",
    "        else:\n",
    "            shape = \"circle\"\n",
    "        return shape\n",
    "\n",
    "    def is_star(self, contour, num_vertices):\n",
    "        if num_vertices % 2 == 0:\n",
    "            angles = self.calculate_angles(contour)\n",
    "            if len(angles) > 0 and any(a > 150 for a in angles):\n",
    "                return True\n",
    "        return False\n",
    "\n",
    "    def calculate_angles(self, contour):\n",
    "        angles = []\n",
    "        for i in range(len(contour)):\n",
    "            pt1 = contour[i - 1][0]\n",
    "            pt2 = contour[i][0]\n",
    "            pt3 = contour[(i + 1) % len(contour)][0]\n",
    "            angle = self.angle_between_three_points(pt1, pt2, pt3)\n",
    "            angles.append(angle)\n",
    "        return angles\n",
    "\n",
    "    def angle_between_three_points(self, pt1, pt2, pt3):\n",
    "        v1 = pt1 - pt2\n",
    "        v2 = pt3 - pt2\n",
    "        angle = np.arctan2(np.linalg.det([v1, v2]), np.dot(v1, v2))\n",
    "        return np.degrees(angle)\n"
   ]
  },
  {
   "cell_type": "code",
   "execution_count": 7,
   "metadata": {},
   "outputs": [],
   "source": [
    "import numpy as np\n",
    "def read_csv_(csv_path):\n",
    "    np_path_XYs = np.genfromtxt(csv_path, delimiter=',')\n",
    "    path_XYs = []\n",
    "    for i in np.unique(np_path_XYs[:, 0]):\n",
    "        npXYs = np_path_XYs[np_path_XYs[:, 0] == i][:, 1:]\n",
    "        XYs = []\n",
    "        for j in np.unique(npXYs[:, 0]):\n",
    "            XY = npXYs[npXYs[:, 0] == j][:, 1:]\n",
    "            XYs.append(XY)\n",
    "        path_XYs.append(XYs)\n",
    "    \n",
    "    # Convert the path_XYs into contours\n",
    "    contours = []\n",
    "    for path in path_XYs:\n",
    "        for XY in path:\n",
    "            if len(XY) > 0:\n",
    "                contour = np.array(XY, dtype=np.int32).reshape((-1, 1, 2))\n",
    "                contours.append(contour)\n",
    "    return contours\n"
   ]
  },
  {
   "cell_type": "code",
   "execution_count": 3,
   "metadata": {},
   "outputs": [],
   "source": [
    "def plot(paths_XYs, title, ax):\n",
    "    colours = ['red', 'green', 'blue', 'yellow', 'purple']  # Define some colors for plotting\n",
    "    for i, XYs in enumerate(paths_XYs):\n",
    "        c = colours[i % len(colours)]\n",
    "        for XY in XYs:\n",
    "            ax.plot(XY[:, 0], XY[:, 1], c=c, linewidth=2)\n",
    "    ax.set_aspect('equal')\n",
    "    ax.set_title(title)\n"
   ]
  },
  {
   "cell_type": "code",
   "execution_count": 21,
   "metadata": {},
   "outputs": [],
   "source": [
    "csv_path = \"../problems/test_cases/isolated.csv\"\n",
    "\n",
    "# Read contours from CSV\n"
   ]
  },
  {
   "cell_type": "code",
   "execution_count": 9,
   "metadata": {},
   "outputs": [],
   "source": [
    "contours = read_csv_(csv_path)\n",
    "sd = Shape()"
   ]
  },
  {
   "cell_type": "code",
   "execution_count": 13,
   "metadata": {},
   "outputs": [
    {
     "name": "stdout",
     "output_type": "stream",
     "text": [
      "Collecting opencv-python\n",
      "  Using cached opencv_python-4.10.0.84-cp37-abi3-win_amd64.whl.metadata (20 kB)\n",
      "Requirement already satisfied: numpy>=1.21.2 in c:\\users\\rohan\\codes\\python\\venv\\lib\\site-packages (from opencv-python) (2.0.1)\n",
      "Using cached opencv_python-4.10.0.84-cp37-abi3-win_amd64.whl (38.8 MB)\n",
      "Installing collected packages: opencv-python\n",
      "Successfully installed opencv-python-4.10.0.84\n"
     ]
    }
   ],
   "source": [
    "!pip install opencv-python"
   ]
  },
  {
   "cell_type": "code",
   "execution_count": 14,
   "metadata": {},
   "outputs": [],
   "source": [
    "import cv2\n",
    "import numpy as np\n",
    "image = np.zeros((600, 600, 3), dtype=np.uint8)\n",
    "\n",
    "for c in contours:\n",
    "    # Detect the shape of the contour\n",
    "    shape = sd.detect(c)\n",
    "    \n",
    "    # Draw the contours and the name of the shape on the image\n",
    "    cv2.drawContours(image, [c], -1, (0, 255, 0), 2)\n",
    "    M = cv2.moments(c)\n",
    "    if M[\"m00\"] != 0:\n",
    "        cX = int(M[\"m10\"] / M[\"m00\"])\n",
    "        cY = int(M[\"m01\"] / M[\"m00\"])\n",
    "        cv2.putText(image, shape, (cX, cY), cv2.FONT_HERSHEY_SIMPLEX, 0.5, (255, 255, 255), 2)\n"
   ]
  },
  {
   "cell_type": "code",
   "execution_count": 17,
   "metadata": {},
   "outputs": [
    {
     "name": "stdout",
     "output_type": "stream",
     "text": [
      "Collecting matplotlib\n",
      "  Using cached matplotlib-3.9.1.post1-cp312-cp312-win_amd64.whl.metadata (11 kB)\n",
      "Collecting contourpy>=1.0.1 (from matplotlib)\n",
      "  Using cached contourpy-1.2.1-cp312-cp312-win_amd64.whl.metadata (5.8 kB)\n",
      "Collecting cycler>=0.10 (from matplotlib)\n",
      "  Using cached cycler-0.12.1-py3-none-any.whl.metadata (3.8 kB)\n",
      "Collecting fonttools>=4.22.0 (from matplotlib)\n",
      "  Using cached fonttools-4.53.1-cp312-cp312-win_amd64.whl.metadata (165 kB)\n",
      "Collecting kiwisolver>=1.3.1 (from matplotlib)\n",
      "  Using cached kiwisolver-1.4.5-cp312-cp312-win_amd64.whl.metadata (6.5 kB)\n",
      "Requirement already satisfied: numpy>=1.23 in c:\\users\\rohan\\codes\\python\\venv\\lib\\site-packages (from matplotlib) (2.0.1)\n",
      "Requirement already satisfied: packaging>=20.0 in c:\\users\\rohan\\codes\\python\\venv\\lib\\site-packages (from matplotlib) (24.1)\n",
      "Collecting pillow>=8 (from matplotlib)\n",
      "  Using cached pillow-10.4.0-cp312-cp312-win_amd64.whl.metadata (9.3 kB)\n",
      "Collecting pyparsing>=2.3.1 (from matplotlib)\n",
      "  Using cached pyparsing-3.1.2-py3-none-any.whl.metadata (5.1 kB)\n",
      "Requirement already satisfied: python-dateutil>=2.7 in c:\\users\\rohan\\codes\\python\\venv\\lib\\site-packages (from matplotlib) (2.9.0.post0)\n",
      "Requirement already satisfied: six>=1.5 in c:\\users\\rohan\\codes\\python\\venv\\lib\\site-packages (from python-dateutil>=2.7->matplotlib) (1.16.0)\n",
      "Using cached matplotlib-3.9.1.post1-cp312-cp312-win_amd64.whl (8.0 MB)\n",
      "Using cached contourpy-1.2.1-cp312-cp312-win_amd64.whl (189 kB)\n",
      "Using cached cycler-0.12.1-py3-none-any.whl (8.3 kB)\n",
      "Using cached fonttools-4.53.1-cp312-cp312-win_amd64.whl (2.2 MB)\n",
      "Using cached kiwisolver-1.4.5-cp312-cp312-win_amd64.whl (56 kB)\n",
      "Using cached pillow-10.4.0-cp312-cp312-win_amd64.whl (2.6 MB)\n",
      "Using cached pyparsing-3.1.2-py3-none-any.whl (103 kB)\n",
      "Installing collected packages: pyparsing, pillow, kiwisolver, fonttools, cycler, contourpy, matplotlib\n",
      "Successfully installed contourpy-1.2.1 cycler-0.12.1 fonttools-4.53.1 kiwisolver-1.4.5 matplotlib-3.9.1.post1 pillow-10.4.0 pyparsing-3.1.2\n"
     ]
    }
   ],
   "source": [
    "!pip install matplotlib"
   ]
  },
  {
   "cell_type": "code",
   "execution_count": 20,
   "metadata": {},
   "outputs": [
    {
     "data": {
      "image/png": "[encoded data removed]",
      "text/plain": [
       "<Figure size 800x800 with 1 Axes>"
      ]
     },
     "metadata": {},
     "output_type": "display_data"
    }
   ],
   "source": [
    "import matplotlib.pyplot as plt\n",
    "fig, ax = plt.subplots(figsize=(8, 8))\n",
    "plot([np.concatenate(contours)], 'Detected Shapes', ax)\n",
    "# plt.show()\n",
    "\n",
    "# Show the output image\n",
    "cv2.imshow(\"Detected Shapes\", image)\n",
    "cv2.waitKey(0)\n",
    "cv2.destroyAllWindows()\n"
   ]
  }
 ],
 "metadata": {
  "kernelspec": {
   "display_name": "venv",
   "language": "python",
   "name": "python3"
  },
  "language_info": {
   "codemirror_mode": {
    "name": "ipython",
    "version": 3
   },
   "file_extension": ".py",
   "mimetype": "text/x-python",
   "name": "python",
   "nbconvert_exporter": "python",
   "pygments_lexer": "ipython3",
   "version": "3.12.2"
  }
 },
 "nbformat": 4,
 "nbformat_minor": 2
}
